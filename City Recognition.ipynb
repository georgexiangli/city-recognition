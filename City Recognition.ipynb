{
 "cells": [
  {
   "cell_type": "markdown",
   "id": "bulgarian-lebanon",
   "metadata": {},
   "source": [
    "# City Recognition\n",
    "\n",
    "Classifier to determine a city based on an image."
   ]
  },
  {
   "cell_type": "code",
   "execution_count": null,
   "id": "excess-engineer",
   "metadata": {},
   "outputs": [
    {
     "name": "stdout",
     "output_type": "stream",
     "text": [
      "\n",
      "Item no.: 1 --> Item name = New York City\n",
      "Evaluating...\n",
      "Starting Download...\n",
      "Completed Image ====> 1.lower_manhattan_skyline_-_june_2017.jpg\n",
      "Completed Image ====> 2.gettyimages-946087016.jpg\n",
      "Completed Image ====> 3.gettyimages-640006562.jpg\n",
      "Completed Image ====> 4.new_york_city_central_park_from_above.0.jpg\n",
      "Completed Image ====> 5.1-ultimate-new-york-hero.jpg\n",
      "\n",
      "Errors: 0\n",
      "\n",
      "\n",
      "Item no.: 2 --> Item name = San Francisco\n",
      "Evaluating...\n",
      "Starting Download...\n",
      "Completed Image ====> 1.san_francisco_from_the_marin_headlands_in_march_2019.jpg\n",
      "Completed Image ====> 2.merlin_136702122_448a1ddc-b5e9-4303-bc0d-701c9addf3f3-superjumbo.jpg\n",
      "Completed Image ====> 3.sf_bridge_1200x800.jpg\n",
      "Completed Image ====> 4.gettyimages-1136437406.jpg\n",
      "Completed Image ====> 5.200514-san-francisco-al-1446_e5e042815c55291b838fce0a7a11459f.jpg\n",
      "\n",
      "Errors: 0\n",
      "\n",
      "\n",
      "Item no.: 3 --> Item name = London\n",
      "Evaluating...\n",
      "Starting Download...\n",
      "Completed Image ====> 1.london_montage_l.jpg\n",
      "Completed Image ====> 2.city_of_london%2c_seen_from_tower_bridge.jpg\n",
      "Completed Image ====> 3.https%3a%2f%2fwww.history.com%2f.image%2fmtyyndg1mje3mti1mjc5mzk4%2ftopic-london-gettyimages-760251843-promo.jpg\n",
      "Completed Image ====> 4.1000px-palace_of_westminster_from_the_dome_on_methodist_central_hall_%28cropped%29.jpg\n",
      "Completed Image ====> 5.london-aerial-cityscape-river-thames_1.jpg\n",
      "\n",
      "Errors: 0\n",
      "\n",
      "\n",
      "Item no.: 4 --> Item name = Paris\n",
      "Evaluating...\n",
      "Starting Download...\n"
     ]
    }
   ],
   "source": [
    "# Web Scrape for Images\n",
    "\n",
    "from google_images_download import google_images_download\n",
    "\n",
    "response = google_images_download.googleimagesdownload()\n",
    "\n",
    "#creating list of arguments, do file import with more cities \n",
    "arguments = {'keywords':\"New York City,San Francisco,London,Paris,Shanghai\", 'limit':5,'output_directory':'/home/gli/CS/projects/city_images'}   \n",
    "paths = response.download(arguments)   #passing the arguments to the function"
   ]
  },
  {
   "cell_type": "code",
   "execution_count": null,
   "id": "imperial-sherman",
   "metadata": {},
   "outputs": [],
   "source": [
    "# Imports\n",
    "from PIL import Image\n",
    "import matplotlib.pyplot as plt\n",
    "import numpy as np"
   ]
  },
  {
   "cell_type": "code",
   "execution_count": null,
   "id": "employed-starter",
   "metadata": {},
   "outputs": [],
   "source": [
    "# View downloaded images\n",
    "\n",
    "folder_path = '/home/gli/CS/projects/city_images/London/'\n",
    "file_path1 = folder_path + '1.london_montage_l.jpg'\n",
    "file_path2 = folder_path + '2.city_of_london%2c_seen_from_tower_bridge.jpg'\n",
    "\n",
    "im1 = Image.open(file_path1)\n",
    "im2 = Image.open(file_path2)\n",
    "\n",
    "%matplotlib inline\n",
    "f, axarr = plt.subplots(1,2)\n",
    "axarr[0].imshow(im1)\n",
    "axarr[1].imshow(im2)"
   ]
  }
 ],
 "metadata": {
  "kernelspec": {
   "display_name": "Python 3",
   "language": "python",
   "name": "python3"
  },
  "language_info": {
   "codemirror_mode": {
    "name": "ipython",
    "version": 3
   },
   "file_extension": ".py",
   "mimetype": "text/x-python",
   "name": "python",
   "nbconvert_exporter": "python",
   "pygments_lexer": "ipython3",
   "version": "3.8.5"
  }
 },
 "nbformat": 4,
 "nbformat_minor": 5
}
