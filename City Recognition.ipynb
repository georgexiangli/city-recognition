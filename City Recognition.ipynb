{
 "cells": [
  {
   "cell_type": "markdown",
   "id": "bulgarian-lebanon",
   "metadata": {},
   "source": [
    "# City Recognition\n",
    "\n",
    "Classifier to determine a city based on an image."
   ]
  },
  {
   "cell_type": "code",
   "execution_count": 12,
   "id": "excess-engineer",
   "metadata": {},
   "outputs": [
    {
     "name": "stdout",
     "output_type": "stream",
     "text": [
      "\n",
      "Item no.: 1 --> Item name = New York City\n",
      "Evaluating...\n",
      "Starting Download...\n",
      "Completed Image ====> 1.lower_manhattan_skyline_-_june_2017.jpg\n",
      "Completed Image ====> 2.gettyimages-946087016.jpg\n",
      "Completed Image ====> 3.gettyimages-640006562.jpg\n",
      "Completed Image ====> 4.new_york_city_central_park_from_above.0.jpg\n",
      "Completed Image ====> 5.gettyimages-1181858711.jpg\n",
      "\n",
      "Errors: 0\n",
      "\n",
      "\n",
      "Item no.: 2 --> Item name =  San Francisco\n",
      "Evaluating...\n",
      "Starting Download...\n",
      "Completed Image ====> 1.san_francisco_from_the_marin_headlands_in_march_2019.jpg\n",
      "Completed Image ====> 2.merlin_136702122_448a1ddc-b5e9-4303-bc0d-701c9addf3f3-superjumbo.jpg\n",
      "Completed Image ====> 3.gettyimages-1136437406.jpg\n",
      "Completed Image ====> 4.110834_image.png\n",
      "Completed Image ====> 5.106650418-1596664513851-gettyimages-1208365509-360738475_1-5.jpeg\n",
      "\n",
      "Errors: 0\n",
      "\n",
      "\n",
      "Item no.: 3 --> Item name =  London\n",
      "Evaluating...\n",
      "Starting Download...\n",
      "Completed Image ====> 1.london_montage_l.jpg\n",
      "Completed Image ====> 2.city_of_london%2c_seen_from_tower_bridge.jpg\n",
      "Completed Image ====> 3.https%3a%2f%2fwww.history.com%2f.image%2fmtyyndg1mje3mti1mjc5mzk4%2ftopic-london-gettyimages-760251843-promo.jpg\n",
      "Completed Image ====> 4.1000px-palace_of_westminster_from_the_dome_on_methodist_central_hall_%28cropped%29.jpg\n",
      "Completed Image ====> 5.london-aerial-cityscape-river-thames_1.jpg\n",
      "\n",
      "Errors: 0\n",
      "\n",
      "\n",
      "Item no.: 4 --> Item name =  Paris\n",
      "Evaluating...\n",
      "Starting Download...\n",
      "Completed Image ====> 1.la_tour_eiffel_vue_de_la_tour_saint-jacques%2c_paris_ao%c3%bbt_2014_%282%29.jpg\n",
      "Completed Image ====> 2.paris-2017-home.jpg\n",
      "Completed Image ====> 3.eiffel-tower-in-paris-151-medium.jpg\n",
      "Completed Image ====> 4.eiffel-tower_gettyimages-1060266626.jpg\n",
      "Completed Image ====> 5.vue-a%c3%a9rienne-paris-tour-eiffel-coucher-de-soleil-%7c-630x405-%7c-%c2%a9-fotolia.jpg\n",
      "\n",
      "Errors: 0\n",
      "\n",
      "\n",
      "Item no.: 5 --> Item name =  Shanghai\n",
      "Evaluating...\n",
      "Starting Download...\n",
      "Completed Image ====> 1.pudong_shanghai_november_2017_panorama.jpg\n",
      "Completed Image ====> 2.shanghai-tower-gensler-san-francisco-world-oriental-2015.jpg\n",
      "Completed Image ====> 3.shanghai_china.jpg\n",
      "Completed Image ====> 4.690px-shanghai_skyline_from_the_bund.jpg\n",
      "Completed Image ====> 5.shanghai-main-data.jpg.webp\n",
      "\n",
      "Errors: 0\n",
      "\n"
     ]
    }
   ],
   "source": [
    "# Web Scrape for Images\n",
    "\n",
    "from google_images_download import google_images_download\n",
    "\n",
    "response = google_images_download.googleimagesdownload()\n",
    "\n",
    "#creating list of arguments, do file import with more cities \n",
    "arguments = {'keywords':\"New York City, San Francisco, London, Paris, Shanghai\", 'limit':5}   \n",
    "paths = response.download(arguments)   #passing the arguments to the function"
   ]
  }
 ],
 "metadata": {
  "kernelspec": {
   "display_name": "Python 3",
   "language": "python",
   "name": "python3"
  },
  "language_info": {
   "codemirror_mode": {
    "name": "ipython",
    "version": 3
   },
   "file_extension": ".py",
   "mimetype": "text/x-python",
   "name": "python",
   "nbconvert_exporter": "python",
   "pygments_lexer": "ipython3",
   "version": "3.8.5"
  }
 },
 "nbformat": 4,
 "nbformat_minor": 5
}
